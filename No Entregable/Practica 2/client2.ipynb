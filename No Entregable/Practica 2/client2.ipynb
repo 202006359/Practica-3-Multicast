{
 "cells": [
  {
   "cell_type": "code",
   "execution_count": 3,
   "metadata": {},
   "outputs": [
    {
     "name": "stdout",
     "output_type": "stream",
     "text": [
      "Nombre de usuario: Vicente\n",
      "SYSTEM: Vicente se ha unido al grupo.\n",
      "Mensaje: hola\n",
      "Vicente: hola\n",
      "Ivan: hola\n",
      "Ivan: hablamos luego\n",
      "Mensaje: vale\n",
      "Vicente: vale\n",
      "Mensaje: adios\n",
      "Vicente: adios\n"
     ]
    }
   ],
   "source": [
    "import multicast_functions as mf\n",
    "import threading\n",
    "\n",
    "def main():\n",
    "    \n",
    "    # Unirse al grupo de multidifusión\n",
    "    multicast_sock = mf.join_multicast_group()\n",
    "\n",
    "    # Obtener el nombre de usuario\n",
    "    user = str(input(\"Nombre de usuario: \"))\n",
    "    \n",
    "    # Enviar un mensaje de saludo al grupo\n",
    "    mf.send_multicast_message(multicast_sock, \"SYSTEM: \" + user + \" se ha unido al grupo.\")\n",
    "\n",
    "    # Variable para indicar si el hilo de recepción debe finalizar\n",
    "    stop_receive_thread = threading.Event()\n",
    "\n",
    "    # Crear un hilo para recibir mensajes del grupo de multidifusión\n",
    "    receive_thread = threading.Thread(target=mf.receive_multicast_messages, args=(multicast_sock, stop_receive_thread))\n",
    "    receive_thread.start()\n",
    "\n",
    "    # Permitir al usuario enviar mensajes mientras espera\n",
    "    while True:\n",
    "        message = input(\"Mensaje: \")\n",
    "        mf.send_multicast_message(multicast_sock, user + \": \" + message)\n",
    "\n",
    "        if message.lower() == \"adios\":\n",
    "            # Indicar al hilo de recepción que debe finalizar\n",
    "            stop_receive_thread.set()\n",
    "            mf.send_multicast_message(multicast_sock, \"SYSTEM: \" + user + \" ha abandonado el grupo.\")\n",
    "            break\n",
    "        \n",
    "    # Esperar a que el hilo de recepción termine\n",
    "    receive_thread.join()\n",
    "    # Cerrar el socket de multidifusión\n",
    "    multicast_sock.close()\n",
    "    \n",
    "    \n",
    "if __name__ == \"__main__\":\n",
    "    main()\n"
   ]
  },
  {
   "cell_type": "code",
   "execution_count": null,
   "metadata": {},
   "outputs": [],
   "source": []
  }
 ],
 "metadata": {
  "kernelspec": {
   "display_name": "Python 3 (ipykernel)",
   "language": "python",
   "name": "python3"
  },
  "language_info": {
   "codemirror_mode": {
    "name": "ipython",
    "version": 3
   },
   "file_extension": ".py",
   "mimetype": "text/x-python",
   "name": "python",
   "nbconvert_exporter": "python",
   "pygments_lexer": "ipython3",
   "version": "3.11.5"
  }
 },
 "nbformat": 4,
 "nbformat_minor": 2
}
