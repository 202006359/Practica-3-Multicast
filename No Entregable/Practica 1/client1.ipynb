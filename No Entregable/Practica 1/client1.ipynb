{
 "cells": [
  {
   "cell_type": "code",
   "execution_count": 1,
   "metadata": {},
   "outputs": [
    {
     "name": "stdout",
     "output_type": "stream",
     "text": [
      "Mensaje recibido: Hola, soy el usuario 1\n",
      "Mensaje recibido: Hola, soy el usuario 2\n",
      "Mensaje recibido: Adios\n"
     ]
    }
   ],
   "source": [
    "import multicast_functions as mf\n",
    "\n",
    "def main():\n",
    "    # Unirse al grupo de multidifusión\n",
    "    multicast_sock = mf.join_multicast_group()\n",
    "    \n",
    "    # Enviar un mensaje de saludo al grupo\n",
    "    mf.send_multicast_message(multicast_sock, \"Hola, soy el usuario 1\")\n",
    "\n",
    "    # Esperar mensajes de otros participantes hasta recibir \"Adios\"\n",
    "    mf.receive_multicast_messages(multicast_sock)\n",
    "\n",
    "    # Cerrar el socket de multidifusión\n",
    "    multicast_sock.close()\n",
    "\n",
    "if __name__ == \"__main__\":\n",
    "    main()"
   ]
  }
 ],
 "metadata": {
  "kernelspec": {
   "display_name": "Python 3 (ipykernel)",
   "language": "python",
   "name": "python3"
  },
  "language_info": {
   "codemirror_mode": {
    "name": "ipython",
    "version": 3
   },
   "file_extension": ".py",
   "mimetype": "text/x-python",
   "name": "python",
   "nbconvert_exporter": "python",
   "pygments_lexer": "ipython3",
   "version": "3.11.5"
  }
 },
 "nbformat": 4,
 "nbformat_minor": 2
}
