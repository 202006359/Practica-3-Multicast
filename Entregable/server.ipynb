{
 "cells": [
  {
   "cell_type": "code",
   "execution_count": 2,
   "metadata": {},
   "outputs": [
    {
     "name": "stdout",
     "output_type": "stream",
     "text": [
      "Ingrese el número de jugadores (Se recomienda 2): 2\n",
      "Ingrese el número de preguntas: 2\n",
      "Servidor iniciado.\n",
      "Esperando a que se conecten los jugadores...\n",
      "Esperando a que los jugadores respondan...\n",
      "userIvan respondió: Charles Darwin\n",
      "userVicente respondió: Robert Louis Stevenson\n",
      "Respuesta correcta: Charles Darwin\n",
      "Esperando a que los jugadores respondan...\n",
      "userIvan respondió: Pacific\n",
      "userVicente respondió: Pacific\n",
      "Respuesta correcta: Pacific\n"
     ]
    }
   ],
   "source": [
    "# main.py\n",
    "\n",
    "import socket\n",
    "import pickle\n",
    "import threading\n",
    "import time\n",
    "import multicast_functions as mf\n",
    "\n",
    "MCAST_GRP = '224.1.1.1'\n",
    "MCAST_PORT = 5007\n",
    "\n",
    "def main():\n",
    "    # Elija el numero de jugadores en la partida antes de iniciar el juego\n",
    "    num_jugadores = int(input(\"Ingrese el número de jugadores (Se recomienda 2): \"))\n",
    "\n",
    "    #Elija el numero de preguntas que se realizaran en la partida\n",
    "    num_preguntas = int(input(\"Ingrese el número de preguntas: \"))\n",
    "    \n",
    "    multicast_sock = mf.join_multicast_group()\n",
    "    print(\"Servidor iniciado.\")\n",
    "\n",
    "    #Esperar a que se conecten los jugadores  \n",
    "    mf.wait_for_players(multicast_sock, num_jugadores)\n",
    "\n",
    "    # Tras 1 segundo de espera, se inicia el juego\n",
    "    time.sleep(1)\n",
    "    mf.init_game(multicast_sock, num_jugadores, num_preguntas)\n",
    "    multicast_sock.close()\n",
    "\n",
    "if __name__ == \"__main__\":\n",
    "    main()\n"
   ]
  },
  {
   "cell_type": "code",
   "execution_count": null,
   "metadata": {},
   "outputs": [],
   "source": []
  },
  {
   "cell_type": "code",
   "execution_count": null,
   "metadata": {},
   "outputs": [],
   "source": []
  }
 ],
 "metadata": {
  "kernelspec": {
   "display_name": "Python 3 (ipykernel)",
   "language": "python",
   "name": "python3"
  },
  "language_info": {
   "codemirror_mode": {
    "name": "ipython",
    "version": 3
   },
   "file_extension": ".py",
   "mimetype": "text/x-python",
   "name": "python",
   "nbconvert_exporter": "python",
   "pygments_lexer": "ipython3",
   "version": "3.11.5"
  }
 },
 "nbformat": 4,
 "nbformat_minor": 2
}
